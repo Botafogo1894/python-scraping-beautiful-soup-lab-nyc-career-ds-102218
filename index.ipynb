{
 "cells": [
  {
   "cell_type": "markdown",
   "metadata": {},
   "source": [
    "### Lab Questions\n",
    "\n",
    "\n",
    "1. [Link Scraping](#q1) Write a function to collect the links to each of the song pages from a given artist page.\n",
    "2. [Text Scraping](#q2) Write a secondary function that scrapes the lyrics for each song page.\n",
    "3. [Combining Parts](#q3) Create a script using your two functions above to scrape all of the song lyrics for a given artist.\n",
    "4. [Visualizing](#q4) Generate two bar graphs to compare lyrical changes for the artist of your chose. For example, the two bar charts could compare the lyrics for two different songs or two different albums.\n",
    "\n",
    "**Extension:**\n",
    "Think about how you structured the data from your web scraper. Did you scrape the entire song lyrics verbatim? Did you simply store the words and their frequency counts, or did you do something else entirely? List out a few different options for how you could have stored this data. What are advantages and disadvantages of each? Be specific and think about what sort of analyses each representation would lend itself to."
   ]
  },
  {
   "cell_type": "markdown",
   "metadata": {},
   "source": [
    "### Question 1  <a id=\"q1\"></a>\n",
    "Write a function to collect the links to each of the song pages from a given artist page."
   ]
  },
  {
   "cell_type": "code",
   "execution_count": 5,
   "metadata": {},
   "outputs": [
    {
     "name": "stdout",
     "output_type": "stream",
     "text": [
      "Requirement already satisfied: bs4 in /opt/conda/envs/learn-env/lib/python3.6/site-packages (0.0.1)\n",
      "Requirement already satisfied: beautifulsoup4 in /opt/conda/envs/learn-env/lib/python3.6/site-packages (from bs4) (4.6.3)\n",
      "\u001b[33mYou are using pip version 10.0.1, however version 18.1 is available.\n",
      "You should consider upgrading via the 'pip install --upgrade pip' command.\u001b[0m\n"
     ]
    }
   ],
   "source": [
    "#Starter Code\n",
    "!pip install bs4\n",
    "from bs4 import BeautifulSoup\n",
    "import requests\n",
    "\n",
    "\n",
    "url = \"https://www.azlyrics.com/d/dualipa.html\"\n",
    "\n",
    "html_page = requests.get(url) #Make a get request to retrieve the page\n",
    "soup = BeautifulSoup(html_page.content, 'html.parser') #Pass the page contents to beautiful soup for parsing\n",
    "\n",
    "\n",
    "#The example from our lecture/reading\n",
    "# data = [] #Create a storage container\n",
    "# for album_n in range(len(albums)):\n",
    "#     #On the last album, we won't be able to look forward\n",
    "#     if album_n == len(albums)-1:\n",
    "#         cur_album = albums[album_n]\n",
    "#         album_songs = cur_album.findNextSiblings('a')\n",
    "#         for song in album_songs:\n",
    "#             page = song.get('href')\n",
    "#             title = song.text\n",
    "#             album = cur_album.text\n",
    "#             data.append((title, page, album))\n",
    "#     else:\n",
    "#         cur_album = albums[album_n]\n",
    "#         next_album = albums[album_n+1]\n",
    "#         saca = cur_album.findNextSiblings('a') #songs after current album\n",
    "#         sbna = next_album.findPreviousSiblings('a') #songs before next album\n",
    "#         album_songs = [song for song in saca if song in sbna] #album songs are those listed after the current album but before the next one!\n",
    "#         for song in album_songs:\n",
    "#             page = song.get('href')\n",
    "#             title = song.text\n",
    "#             album = cur_album.text\n",
    "#             data.append((title, page, album))\n",
    "# data[:2]"
   ]
  },
  {
   "cell_type": "markdown",
   "metadata": {},
   "source": [
    "### Question 2  <a id=\"q2\"></a>\n",
    "Write a secondary function that scrapes the lyrics for each song page."
   ]
  },
  {
   "cell_type": "code",
   "execution_count": 10,
   "metadata": {},
   "outputs": [
    {
     "data": {
      "text/plain": [
       "[<a class=\"navbar-brand\" href=\"//www.azlyrics.com\"><img alt=\"AZLyrics.com\" class=\"pull-left\" src=\"//www.azlyrics.com/az_logo_tr.png\" style=\"max-height:40px; margin-top:-10px;\"/></a>,\n",
       " <a class=\"btn btn-menu\" href=\"//www.azlyrics.com/a.html\">A</a>,\n",
       " <a class=\"btn btn-menu\" href=\"//www.azlyrics.com/b.html\">B</a>,\n",
       " <a class=\"btn btn-menu\" href=\"//www.azlyrics.com/c.html\">C</a>,\n",
       " <a class=\"btn btn-menu\" href=\"//www.azlyrics.com/d.html\">D</a>,\n",
       " <a class=\"btn btn-menu\" href=\"//www.azlyrics.com/e.html\">E</a>,\n",
       " <a class=\"btn btn-menu\" href=\"//www.azlyrics.com/f.html\">F</a>,\n",
       " <a class=\"btn btn-menu\" href=\"//www.azlyrics.com/g.html\">G</a>,\n",
       " <a class=\"btn btn-menu\" href=\"//www.azlyrics.com/h.html\">H</a>,\n",
       " <a class=\"btn btn-menu\" href=\"//www.azlyrics.com/i.html\">I</a>,\n",
       " <a class=\"btn btn-menu\" href=\"//www.azlyrics.com/j.html\">J</a>,\n",
       " <a class=\"btn btn-menu\" href=\"//www.azlyrics.com/k.html\">K</a>,\n",
       " <a class=\"btn btn-menu\" href=\"//www.azlyrics.com/l.html\">L</a>,\n",
       " <a class=\"btn btn-menu\" href=\"//www.azlyrics.com/m.html\">M</a>,\n",
       " <a class=\"btn btn-menu\" href=\"//www.azlyrics.com/n.html\">N</a>,\n",
       " <a class=\"btn btn-menu\" href=\"//www.azlyrics.com/o.html\">O</a>,\n",
       " <a class=\"btn btn-menu\" href=\"//www.azlyrics.com/p.html\">P</a>,\n",
       " <a class=\"btn btn-menu\" href=\"//www.azlyrics.com/q.html\">Q</a>,\n",
       " <a class=\"btn btn-menu\" href=\"//www.azlyrics.com/r.html\">R</a>,\n",
       " <a class=\"btn btn-menu\" href=\"//www.azlyrics.com/s.html\">S</a>,\n",
       " <a class=\"btn btn-menu\" href=\"//www.azlyrics.com/t.html\">T</a>,\n",
       " <a class=\"btn btn-menu\" href=\"//www.azlyrics.com/u.html\">U</a>,\n",
       " <a class=\"btn btn-menu\" href=\"//www.azlyrics.com/v.html\">V</a>,\n",
       " <a class=\"btn btn-menu\" href=\"//www.azlyrics.com/w.html\">W</a>,\n",
       " <a class=\"btn btn-menu\" href=\"//www.azlyrics.com/x.html\">X</a>,\n",
       " <a class=\"btn btn-menu\" href=\"//www.azlyrics.com/y.html\">Y</a>,\n",
       " <a class=\"btn btn-menu\" href=\"//www.azlyrics.com/z.html\">Z</a>,\n",
       " <a class=\"btn btn-menu\" href=\"//www.azlyrics.com/19.html\">#</a>,\n",
       " <a class=\"btn btn-xs btn-default sorting\" href=\"#\" onclick=\"return showAlbum();\"><span class=\"glyphicon glyphicon-sort-by-order\"></span> sort by album</a>,\n",
       " <a class=\"btn btn-xs btn-default sorting\" href=\"#\" onclick=\"return showSong();\"><span class=\"glyphicon glyphicon-sort-by-alphabet\"></span> sort by song</a>,\n",
       " <a id=\"41762\"></a>,\n",
       " <a href=\"../lyrics/dualipa/genesis.html\" target=\"_blank\">Genesis</a>,\n",
       " <a href=\"../lyrics/dualipa/lastdance.html\" target=\"_blank\">Last Dance</a>,\n",
       " <a href=\"../lyrics/dualipa/hotterthanhell.html\" target=\"_blank\">Hotter Than Hell</a>,\n",
       " <a href=\"../lyrics/dualipa/betheone.html\" target=\"_blank\">Be The One</a>,\n",
       " <a href=\"../lyrics/dualipa/idgaf.html\" target=\"_blank\">IDGAF</a>,\n",
       " <a href=\"../lyrics/dualipa/blowyourmindmwah.html\" target=\"_blank\">Blow Your Mind (Mwah)</a>,\n",
       " <a href=\"../lyrics/dualipa/newlove.html\" target=\"_blank\">New Love</a>,\n",
       " <a href=\"../lyrics/dualipa/nogoodbyes.html\" target=\"_blank\">No Goodbyes</a>,\n",
       " <a href=\"../lyrics/dualipa/thinkingboutyou.html\" target=\"_blank\">Thinking 'Bout You</a>,\n",
       " <a href=\"../lyrics/dualipa/roomfor2.html\" target=\"_blank\">Room For 2</a>,\n",
       " <a href=\"../lyrics/dualipa/lostinyourlight.html\" target=\"_blank\">Lost In Your Light</a>,\n",
       " <a href=\"../lyrics/dualipa/badtogether.html\" target=\"_blank\">Bad Together</a>,\n",
       " <a href=\"../lyrics/dualipa/garden.html\" target=\"_blank\">Garden</a>,\n",
       " <a href=\"../lyrics/dualipa/dreams.html\" target=\"_blank\">Dreams</a>,\n",
       " <a href=\"../lyrics/dualipa/newrules.html\" target=\"_blank\">New Rules</a>,\n",
       " <a href=\"../lyrics/dualipa/begging.html\" target=\"_blank\">Begging</a>,\n",
       " <a href=\"../lyrics/dualipa/homesick.html\" target=\"_blank\">Homesick</a>,\n",
       " <a id=\"52032\"></a>,\n",
       " <a href=\"../lyrics/dualipa/goldenslumbersacoustic.html\" target=\"_blank\">Golden Slumbers (Acoustic)</a>,\n",
       " <a href=\"https://www.azlyrics.com/lyrics/gallant/intheroomtearsdryontheirown.html\" target=\"_blank\">In The Room : Tears Dry On Their Own (Live)</a>,\n",
       " <a href=\"../lyrics/dualipa/idrathergoblindlive.html\" target=\"_blank\">I'd Rather Go Blind (Live)</a>,\n",
       " <a href=\"../lyrics/dualipa/newrulespianoacousticlive.html\" target=\"_blank\">New Rules (Piano Acoustic) (Live)</a>,\n",
       " <a href=\"../lyrics/dualipa/bangbang.html\" target=\"_blank\">Bang Bang</a>,\n",
       " <a href=\"../lyrics/dualipa/betweenabulletandheartbreak.html\" target=\"_blank\">Between A Bullet And Heartbreak</a>,\n",
       " <a href=\"../lyrics/dualipa/cocoabutterkisses.html\" target=\"_blank\">Cocoa Butter Kisses</a>,\n",
       " <a href=\"../lyrics/dualipa/electricity.html\" target=\"_blank\">Electricity</a>,\n",
       " <a href=\"../lyrics/dualipa/forjulian.html\" target=\"_blank\">For Julian</a>,\n",
       " <a href=\"../lyrics/dualipa/high.html\" target=\"_blank\">High</a>,\n",
       " <a href=\"../lyrics/dualipa/idgafdiabloremix.html\" target=\"_blank\">IDGAF (Diablo Remix)</a>,\n",
       " <a href=\"../lyrics/dualipa/idgafremix.html\" target=\"_blank\">IDGAF (Remix)</a>,\n",
       " <a href=\"../lyrics/dualipa/kissandmakeup.html\" target=\"_blank\">Kiss And Make Up</a>,\n",
       " <a href=\"../lyrics/dualipa/newyorkmendmybrokenheart.html\" target=\"_blank\">New York (Mend My Broken Heart)</a>,\n",
       " <a href=\"https://www.azlyrics.com/lyrics/seanpaul/nolie.html\" target=\"_blank\">No Lie</a>,\n",
       " <a href=\"https://www.azlyrics.com/lyrics/calvinharris/onekiss.html\" target=\"_blank\">One Kiss</a>,\n",
       " <a href=\"https://www.azlyrics.com/lyrics/calvinharris/onekissjauzremix.html\" target=\"_blank\">One Kiss (Jauz Remix)</a>,\n",
       " <a href=\"../lyrics/dualipa/running.html\" target=\"_blank\">Running</a>,\n",
       " <a href=\"https://www.azlyrics.com/lyrics/martingarrix/scaredtobelonely.html\" target=\"_blank\">Scared To Be Lonely</a>,\n",
       " <a href=\"../lyrics/dualipa/thinkingboutyoudeccoremix.html\" target=\"_blank\">Thinking 'Bout You (DECCO Remix)</a>,\n",
       " <a href=\"../lyrics/dualipa/voodoo.html\" target=\"_blank\">Voodoo</a>,\n",
       " <a href=\"../lyrics/dualipa/wantto.html\" target=\"_blank\">Want To</a>,\n",
       " <a href=\"../lyrics/dualipa/wanttodemo.html\" target=\"_blank\">Want To (Demo)</a>,\n",
       " <a href=\"../lyrics/dualipa/yours.html\" target=\"_blank\">Yours</a>,\n",
       " <a href=\"../add.php\" onclick=\"document.forms['addsong'].submit();return false;\">Submit Lyrics</a>,\n",
       " <a href=\"//www.stlyrics.com\">Soundtracks</a>,\n",
       " <a href=\"//www.facebook.com/pages/AZLyricscom/154139197951223\">Facebook</a>,\n",
       " <a href=\"//www.azlyrics.com/contact.html\">Contact Us</a>,\n",
       " <a href=\"//www.azlyrics.com/adv.html\">Advertise Here</a>,\n",
       " <a href=\"//www.azlyrics.com/privacy.html\">Privacy Policy</a>,\n",
       " <a href=\"//www.azlyrics.com/copyright.html\">DMCA Policy</a>]"
      ]
     },
     "execution_count": 10,
     "metadata": {},
     "output_type": "execute_result"
    }
   ],
   "source": [
    "soup.findAll('a')"
   ]
  },
  {
   "cell_type": "code",
   "execution_count": 8,
   "metadata": {},
   "outputs": [
    {
     "data": {
      "text/plain": [
       "'<!DOCTYPE html>\\n<html lang=\"en\">\\n <head>\\n  <meta charset=\"utf-8\"/>\\n  <meta content=\"IE=edge\" http-equiv=\"X-UA-Compatible\"/>\\n  <meta content=\"width=device-width, initial-scale=1\" name=\"viewport\"/>\\n  <meta content=\\'Lyrics to \"Sheezus\" song by Lily Allen: Been here before, so I’m prepared Not gonna lie though, I’m kinda scared Lace up my gloves, I’m goin...\\' name=\"description\"/>\\n  <meta content=\"Sheezus lyrics, Lily Allen Sheezus lyrics, Lily Allen lyrics\" name=\"keywords\"/>\\n  <meta content=\"noarchive\" name=\"robots\"/>\\n  <meta content=\"//www.azlyrics.com/az_logo_tr.png\" property=\"og:image\"/>\\n  <title>\\n   Lily Allen Lyrics - Sheezus\\n  </title>\\n  <link href=\"https://maxcdn.bootstrapcdn.com/bootstrap/3.3.4/css/bootstrap.min.css\" rel=\"stylesheet\"/>\\n  <link href=\"//www.azlyrics.com/bsaz.css\" rel=\"stylesheet\"/>\\n  <!-- HTML5 shim and Respond.js for IE8 support of HTML5 elements and media queries -->\\n  <!--[if lt IE 9]>\\r\\n<script src=\"https://oss.maxcdn.com/html5shiv/3.7.2/html5shiv.min.js\"></script'"
      ]
     },
     "execution_count": 8,
     "metadata": {},
     "output_type": "execute_result"
    }
   ],
   "source": [
    "#Remember to open up the webpage in a browser and control-click/right-click and go to inspect!\n",
    "from bs4 import BeautifulSoup\n",
    "import requests\n",
    "\n",
    "#Example page\n",
    "url = 'https://www.azlyrics.com/lyrics/lilyallen/sheezus.html'\n",
    "\n",
    "\n",
    "html_page = requests.get(url)\n",
    "soup = BeautifulSoup(html_page.content, 'html.parser')\n",
    "soup.prettify()[:1000]"
   ]
  },
  {
   "cell_type": "markdown",
   "metadata": {},
   "source": [
    "### Question 3 <a id=\"q3\"></a>\n",
    "Create a script using your two functions above to scrape all of the song lyrics for a given artist.\n"
   ]
  },
  {
   "cell_type": "code",
   "execution_count": 9,
   "metadata": {},
   "outputs": [],
   "source": [
    "#Use this block for your code!"
   ]
  },
  {
   "cell_type": "markdown",
   "metadata": {},
   "source": [
    "### Question 4 <a id=\"q4\"></a>\n",
    "Generate two bar graphs to compare lyrical changes for the artist of your chose. For example, the two bar charts could compare the lyrics for two different songs or two different albums."
   ]
  },
  {
   "cell_type": "code",
   "execution_count": null,
   "metadata": {},
   "outputs": [],
   "source": []
  }
 ],
 "metadata": {
  "kernelspec": {
   "display_name": "Python 3",
   "language": "python",
   "name": "python3"
  },
  "language_info": {
   "codemirror_mode": {
    "name": "ipython",
    "version": 3
   },
   "file_extension": ".py",
   "mimetype": "text/x-python",
   "name": "python",
   "nbconvert_exporter": "python",
   "pygments_lexer": "ipython3",
   "version": "3.6.6"
  }
 },
 "nbformat": 4,
 "nbformat_minor": 2
}
