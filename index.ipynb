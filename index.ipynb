{
 "cells": [
  {
   "cell_type": "markdown",
   "metadata": {},
   "source": [
    "### Lab Questions\n",
    "\n",
    "\n",
    "1. [Link Scraping](#q1) Write a function to collect the links to each of the song pages from a given artist page.\n",
    "2. [Text Scraping](#q2) Write a secondary function that scrapes the lyrics for each song page.\n",
    "3. [Combining Parts](#q3) Create a script using your two functions above to scrape all of the song lyrics for a given artist.\n",
    "4. [Visualizing](#q4) Generate two bar graphs to compare lyrical changes for the artist of your chose. For example, the two bar charts could compare the lyrics for two different songs or two different albums.\n",
    "\n",
    "**Extension:**\n",
    "Think about how you structured the data from your web scraper. Did you scrape the entire song lyrics verbatim? Did you simply store the words and their frequency counts, or did you do something else entirely? List out a few different options for how you could have stored this data. What are advantages and disadvantages of each? Be specific and think about what sort of analyses each representation would lend itself to."
   ]
  },
  {
   "cell_type": "markdown",
   "metadata": {},
   "source": [
    "### Question 1  <a id=\"q1\"></a>\n",
    "Write a function to collect the links to each of the song pages from a given artist page."
   ]
  },
  {
   "cell_type": "code",
   "execution_count": 5,
   "metadata": {},
   "outputs": [
    {
     "name": "stdout",
     "output_type": "stream",
     "text": [
      "Requirement already satisfied: bs4 in /opt/conda/envs/learn-env/lib/python3.6/site-packages (0.0.1)\n",
      "Requirement already satisfied: beautifulsoup4 in /opt/conda/envs/learn-env/lib/python3.6/site-packages (from bs4) (4.6.3)\n",
      "\u001b[33mYou are using pip version 10.0.1, however version 18.1 is available.\n",
      "You should consider upgrading via the 'pip install --upgrade pip' command.\u001b[0m\n"
     ]
    }
   ],
   "source": [
    "#Starter Code\n",
    "!pip install bs4\n",
    "from bs4 import BeautifulSoup\n",
    "import requests\n",
    "\n",
    "\n",
    "url = \"https://www.azlyrics.com/d/dualipa.html\"\n",
    "\n",
    "html_page = requests.get(url) #Make a get request to retrieve the page\n",
    "soup = BeautifulSoup(html_page.content, 'html.parser') #Pass the page contents to beautiful soup for parsing\n",
    "\n",
    "\n",
    "#The example from our lecture/reading\n",
    "# data = [] #Create a storage container\n",
    "# for album_n in range(len(albums)):\n",
    "#     #On the last album, we won't be able to look forward\n",
    "#     if album_n == len(albums)-1:\n",
    "#         cur_album = albums[album_n]\n",
    "#         album_songs = cur_album.findNextSiblings('a')\n",
    "#         for song in album_songs:\n",
    "#             page = song.get('href')\n",
    "#             title = song.text\n",
    "#             album = cur_album.text\n",
    "#             data.append((title, page, album))\n",
    "#     else:\n",
    "#         cur_album = albums[album_n]\n",
    "#         next_album = albums[album_n+1]\n",
    "#         saca = cur_album.findNextSiblings('a') #songs after current album\n",
    "#         sbna = next_album.findPreviousSiblings('a') #songs before next album\n",
    "#         album_songs = [song for song in saca if song in sbna] #album songs are those listed after the current album but before the next one!\n",
    "#         for song in album_songs:\n",
    "#             page = song.get('href')\n",
    "#             title = song.text\n",
    "#             album = cur_album.text\n",
    "#             data.append((title, page, album))\n",
    "# data[:2]"
   ]
  },
  {
   "cell_type": "markdown",
   "metadata": {},
   "source": [
    "### Question 2  <a id=\"q2\"></a>\n",
    "Write a secondary function that scrapes the lyrics for each song page."
   ]
  },
  {
   "cell_type": "code",
   "execution_count": 6,
   "metadata": {},
   "outputs": [
    {
     "data": {
      "text/plain": [
       "'\\n\\n\\n\\n\\n\\n\\n\\n\\n\\nDua Lipa Lyrics\\n\\n\\n\\n\\n\\r\\nArtistName = \"Dua Lipa\";\\r\\n\\n\\n\\n\\n\\r\\n  var _comscore = _comscore || [];\\r\\n  _comscore.push({ c1: \"2\", c2: \"6772046\" });\\r\\n  (function() {\\r\\n    var s = document.createElement(\"script\"), el = document.getElementsByTagName(\"script\")[0]; s.async = true;\\r\\n    s.src = (document.location.protocol == \"https:\" ? \"https://sb\" : \"http://b\") + \".scorecardresearch.com/beacon.js\";\\r\\n    el.parentNode.insertBefore(s, el);\\r\\n  })();\\r\\n\\n\\n\\n\\n\\n\\n(function(d, s, id) {\\r\\n  var js, fjs = d.getElementsByTagName(s)[0];\\r\\n  if (d.getElementById(id)) return;\\r\\n  js = d.createElement(s); js.id = id;\\r\\n  js.src = \"//connect.facebook.net/en_US/sdk.js#xfbml=1&version=v2.3\";\\r\\n  fjs.parentNode.insertBefore(js, fjs);\\r\\n}(document, \\'script\\', \\'facebook-jssdk\\'));\\n\\n\\n\\n\\n\\n\\n\\n\\n\\n\\n\\n\\n\\n\\n\\nA\\nB\\nC\\nD\\nE\\nF\\nG\\nH\\nI\\nJ\\nK\\nL\\nM\\nN\\nO\\nP\\nQ\\nR\\nS\\nT\\nU\\nV\\nW\\nX\\nY\\nZ\\n#\\n\\n\\n\\n\\n\\n\\n\\n\\n Search\\n\\n\\n\\n\\n\\n\\n\\n\\n\\n\\n\\n\\n\\n\\n\\n\\n\\n\\n\\n\\n\\n\\n\\n\\n\\n\\n\\n\\n\\n\\n\\n\\nDua Lipa Lyrics\\n\\n\\n\\n\\n sort by album sort by song\\n\\nalbum: \"Dua Lipa\" (2017)\\nGenesis\\nLast Dance\\nHotter Than Hell\\nBe The One\\nIDGAF\\nBlow Your Mind (Mwah)\\nNew Love\\nNo Goodbyes\\nThinking \\'Bout You\\nRoom For 2\\nLost In Your Light\\nBad Together\\nGarden\\nDreams\\nNew Rules\\nBegging\\nHomesick\\nEP: \"Live Acoustic\" (2017)\\nGolden Slumbers (Acoustic)\\nIn The Room : Tears Dry On Their Own (Live)\\nI\\'d Rather Go Blind (Live)\\nNew Rules (Piano Acoustic) (Live)\\nother songs:\\nBang Bang\\nBetween A Bullet And Heartbreak\\nCocoa Butter Kisses\\nElectricity\\nFor Julian[from \"The Only\" EP]\\nHigh[from \"Fifty Shades Freed\" soundtrack]\\nIDGAF (Diablo Remix)\\nIDGAF (Remix)\\nKiss And Make Up\\nNew York (Mend My Broken Heart)\\nNo Lie\\nOne Kiss\\nOne Kiss (Jauz Remix)\\nRunning\\nScared To Be Lonely\\nThinking \\'Bout You (DECCO Remix)\\nVoodoo\\nWant To\\nWant To (Demo)\\nYours\\n\\r\\n<!--\\r\\nfunction showAlbum() {\\r\\n  document.getElementById(\"listAlbum\").innerHTML = save;\\r\\n  return false;\\r\\n}\\r\\nfunction showSong() {\\r\\n  document.getElementById(\"listAlbum\").innerHTML = res;\\r\\n  return false;\\r\\n}\\r\\nvar songlist = [\\r\\n{s:\"Bad Together\", h:\"../lyrics/dualipa/badtogether.html\", c:\"\", a:\"\"},\\n{s:\"Bang Bang\", h:\"../lyrics/dualipa/bangbang.html\", c:\"\", a:\"\"},\\n{s:\"Be The One\", h:\"../lyrics/dualipa/betheone.html\", c:\"\", a:\"\"},\\n{s:\"Begging\", h:\"../lyrics/dualipa/begging.html\", c:\"\", a:\"\"},\\n{s:\"Between A Bullet And Heartbreak\", h:\"../lyrics/dualipa/betweenabulletandheartbreak.html\", c:\"\", a:\"\"},\\n{s:\"Blow Your Mind (Mwah)\", h:\"../lyrics/dualipa/blowyourmindmwah.html\", c:\"\", a:\"\"},\\n{s:\"Cocoa Butter Kisses\", h:\"../lyrics/dualipa/cocoabutterkisses.html\", c:\"\", a:\"\"},\\n{s:\"Dreams\", h:\"../lyrics/dualipa/dreams.html\", c:\"\", a:\"\"},\\n{s:\"Electricity\", h:\"../lyrics/dualipa/electricity.html\", c:\"\", a:\"\"},\\n{s:\"For Julian\", h:\"../lyrics/dualipa/forjulian.html\", c:\"\", a:\"\"},\\n{s:\"Garden\", h:\"../lyrics/dualipa/garden.html\", c:\"\", a:\"\"},\\n{s:\"Genesis\", h:\"../lyrics/dualipa/genesis.html\", c:\"\", a:\"\"},\\n{s:\"Golden Slumbers (Acoustic)\", h:\"../lyrics/dualipa/goldenslumbersacoustic.html\", c:\"\", a:\"\"},\\n{s:\"High\", h:\"../lyrics/dualipa/high.html\", c:\"\", a:\"\"},\\n{s:\"Homesick\", h:\"../lyrics/dualipa/homesick.html\", c:\"\", a:\"\"},\\n{s:\"Hotter Than Hell\", h:\"../lyrics/dualipa/hotterthanhell.html\", c:\"\", a:\"\"},\\n{s:\"I\\'d Rather Go Blind (Live)\", h:\"../lyrics/dualipa/idrathergoblindlive.html\", c:\"\", a:\"\"},\\n{s:\"IDGAF\", h:\"../lyrics/dualipa/idgaf.html\", c:\"\", a:\"\"},\\n{s:\"IDGAF (Diablo Remix)\", h:\"../lyrics/dualipa/idgafdiabloremix.html\", c:\"\", a:\"\"},\\n{s:\"IDGAF (Remix)\", h:\"../lyrics/dualipa/idgafremix.html\", c:\"\", a:\"\"},\\n{s:\"In The Room : Tears Dry On Their Own (Live)\", h:\"https://www.azlyrics.com/lyrics/gallant/intheroomtearsdryontheirown.html\", c:\"\", a:\"\"},\\n{s:\"Kiss And Make Up\", h:\"../lyrics/dualipa/kissandmakeup.html\", c:\"\", a:\"\"},\\n{s:\"Last Dance\", h:\"../lyrics/dualipa/lastdance.html\", c:\"\", a:\"\"},\\n{s:\"Lost In Your Light\", h:\"../lyrics/dualipa/lostinyourlight.html\", c:\"\", a:\"\"},\\n{s:\"New Love\", h:\"../lyrics/dualipa/newlove.html\", c:\"\", a:\"\"},\\n{s:\"New Rules\", h:\"../lyrics/dualipa/newrules.html\", c:\"\", a:\"\"},\\n{s:\"New Rules (Piano Acoustic) (Live)\", h:\"../lyrics/dualipa/newrulespianoacousticlive.html\", c:\"\", a:\"\"},\\n{s:\"New York (Mend My Broken Heart)\", h:\"../lyrics/dualipa/newyorkmendmybrokenheart.html\", c:\"\", a:\"\"},\\n{s:\"No Goodbyes\", h:\"../lyrics/dualipa/nogoodbyes.html\", c:\"\", a:\"\"},\\n{s:\"No Lie\", h:\"https://www.azlyrics.com/lyrics/seanpaul/nolie.html\", c:\"\", a:\"\"},\\n{s:\"One Kiss\", h:\"https://www.azlyrics.com/lyrics/calvinharris/onekiss.html\", c:\"\", a:\"\"},\\n{s:\"One Kiss (Jauz Remix)\", h:\"https://www.azlyrics.com/lyrics/calvinharris/onekissjauzremix.html\", c:\"\", a:\"\"},\\n{s:\"Room For 2\", h:\"../lyrics/dualipa/roomfor2.html\", c:\"\", a:\"\"},\\n{s:\"Running\", h:\"../lyrics/dualipa/running.html\", c:\"\", a:\"\"},\\n{s:\"Scared To Be Lonely\", h:\"https://www.azlyrics.com/lyrics/martingarrix/scaredtobelonely.html\", c:\"\", a:\"\"},\\n{s:\"Thinking \\'Bout You\", h:\"../lyrics/dualipa/thinkingboutyou.html\", c:\"\", a:\"\"},\\n{s:\"Thinking \\'Bout You (DECCO Remix)\", h:\"../lyrics/dualipa/thinkingboutyoudeccoremix.html\", c:\"\", a:\"\"},\\n{s:\"Voodoo\", h:\"../lyrics/dualipa/voodoo.html\", c:\"\", a:\"\"},\\n{s:\"Want To\", h:\"../lyrics/dualipa/wantto.html\", c:\"\", a:\"\"},\\n{s:\"Want To (Demo)\", h:\"../lyrics/dualipa/wanttodemo.html\", c:\"\", a:\"\"},\\n{s:\"Yours\", h:\"../lyrics/dualipa/yours.html\", c:\"\", a:\"\"}];\\r\\nvar res = \\'<br>\\';\\r\\nvar i = 0;\\r\\nfor (i=0; i<songlist.length; i++) {\\r\\n  res += \\'<a href=\"\\'+songlist[i].h+\\'\" target=\"_blank\">\\'+songlist[i].s+\\'</a>\\'+songlist[i].c+(songlist[i].a==\"\" ? \\'\\' : \\' <span class=\"comment\">[\"\\'+songlist[i].a+\\'\"]</span>\\')+\\'<br>\\';\\r\\n}\\r\\nvar save = document.getElementById(\"listAlbum\").innerHTML;\\r\\n//-->\\r\\n\\n\\n\\n\\n\\n\\n \\n\\n\\n\\n\\n \\n\\n\\n\\n\\nSubmit Lyrics\\nSoundtracks\\nFacebook\\nContact Us\\n\\n\\n\\n\\n\\n\\n\\n\\n\\n\\n\\n\\n\\n\\n\\n\\n\\nAdvertise Here\\nPrivacy Policy\\nDMCA Policy\\n\\n\\n\\n\\n\\n\\r\\n             All lyrics are property and copyright of their owners. All lyrics provided for educational purposes and personal use only.\\n\\r\\n                curdate=new Date();\\r\\n                document.write(\"<strong>Copyright &copy; 2000-\"+curdate.getFullYear()+\" AZLyrics.com<\\\\/strong>\");\\r\\n             \\n\\n\\n\\n\\r\\ncf_page_artist = ArtistName;\\r\\ncf_page_song = \"\";\\r\\ncf_page_genre = \"pop\";\\r\\n\\n\\n\\r\\n\\r\\n  var _gaq = _gaq || [];\\r\\n  _gaq.push([\\'_setAccount\\', \\'UA-4309237-1\\']);\\r\\n\\r\\n  (function() {\\r\\n    var ga = document.createElement(\\'script\\'); ga.type = \\'text/javascript\\'; ga.async = true;\\r\\n    ga.src = (\\'https:\\' == document.location.protocol ? \\'https://ssl\\' : \\'http://www\\') + \\'.google-analytics.com/ga.js\\';\\r\\n    var s = document.getElementsByTagName(\\'script\\')[0]; s.parentNode.insertBefore(ga, s);\\r\\n  })();\\r\\n\\r\\n\\n\\n\\nwindow.jQuery || document.write(\\'<script src=\"//www.azlyrics.com/local/jquery.min.js\"><\\\\/script>\\')\\n\\r\\n      $(function () {\\r\\n       if ($(\\'#CssFailCheck\\').is(\\':visible\\') === true) {\\r\\n         $(\\'<link rel=\"stylesheet\" type=\"text/css\" href=\"//www.azlyrics.com/bs/css/bootstrap.min.css\"><link rel=\"stylesheet\" href=\"//www.azlyrics.com/bsaz.css\">\\').appendTo(\\'head\\');\\r\\n       }\\r\\n      });\\r\\n    \\n\\n\\n'"
      ]
     },
     "execution_count": 6,
     "metadata": {},
     "output_type": "execute_result"
    }
   ],
   "source": [
    "album = soup.text\n",
    "album"
   ]
  },
  {
   "cell_type": "code",
   "execution_count": 8,
   "metadata": {},
   "outputs": [
    {
     "data": {
      "text/plain": [
       "'<!DOCTYPE html>\\n<html lang=\"en\">\\n <head>\\n  <meta charset=\"utf-8\"/>\\n  <meta content=\"IE=edge\" http-equiv=\"X-UA-Compatible\"/>\\n  <meta content=\"width=device-width, initial-scale=1\" name=\"viewport\"/>\\n  <meta content=\\'Lyrics to \"Sheezus\" song by Lily Allen: Been here before, so I’m prepared Not gonna lie though, I’m kinda scared Lace up my gloves, I’m goin...\\' name=\"description\"/>\\n  <meta content=\"Sheezus lyrics, Lily Allen Sheezus lyrics, Lily Allen lyrics\" name=\"keywords\"/>\\n  <meta content=\"noarchive\" name=\"robots\"/>\\n  <meta content=\"//www.azlyrics.com/az_logo_tr.png\" property=\"og:image\"/>\\n  <title>\\n   Lily Allen Lyrics - Sheezus\\n  </title>\\n  <link href=\"https://maxcdn.bootstrapcdn.com/bootstrap/3.3.4/css/bootstrap.min.css\" rel=\"stylesheet\"/>\\n  <link href=\"//www.azlyrics.com/bsaz.css\" rel=\"stylesheet\"/>\\n  <!-- HTML5 shim and Respond.js for IE8 support of HTML5 elements and media queries -->\\n  <!--[if lt IE 9]>\\r\\n<script src=\"https://oss.maxcdn.com/html5shiv/3.7.2/html5shiv.min.js\"></script'"
      ]
     },
     "execution_count": 8,
     "metadata": {},
     "output_type": "execute_result"
    }
   ],
   "source": [
    "#Remember to open up the webpage in a browser and control-click/right-click and go to inspect!\n",
    "from bs4 import BeautifulSoup\n",
    "import requests\n",
    "\n",
    "#Example page\n",
    "url = 'https://www.azlyrics.com/lyrics/lilyallen/sheezus.html'\n",
    "\n",
    "\n",
    "html_page = requests.get(url)\n",
    "soup = BeautifulSoup(html_page.content, 'html.parser')\n",
    "soup.prettify()[:1000]"
   ]
  },
  {
   "cell_type": "markdown",
   "metadata": {},
   "source": [
    "### Question 3 <a id=\"q3\"></a>\n",
    "Create a script using your two functions above to scrape all of the song lyrics for a given artist.\n"
   ]
  },
  {
   "cell_type": "code",
   "execution_count": 9,
   "metadata": {},
   "outputs": [],
   "source": [
    "#Use this block for your code!"
   ]
  },
  {
   "cell_type": "markdown",
   "metadata": {},
   "source": [
    "### Question 4 <a id=\"q4\"></a>\n",
    "Generate two bar graphs to compare lyrical changes for the artist of your chose. For example, the two bar charts could compare the lyrics for two different songs or two different albums."
   ]
  },
  {
   "cell_type": "code",
   "execution_count": null,
   "metadata": {},
   "outputs": [],
   "source": []
  }
 ],
 "metadata": {
  "kernelspec": {
   "display_name": "Python 3",
   "language": "python",
   "name": "python3"
  },
  "language_info": {
   "codemirror_mode": {
    "name": "ipython",
    "version": 3
   },
   "file_extension": ".py",
   "mimetype": "text/x-python",
   "name": "python",
   "nbconvert_exporter": "python",
   "pygments_lexer": "ipython3",
   "version": "3.6.6"
  }
 },
 "nbformat": 4,
 "nbformat_minor": 2
}
